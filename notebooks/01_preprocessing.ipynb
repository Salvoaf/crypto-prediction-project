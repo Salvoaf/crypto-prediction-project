{
 "cells": [
  {
   "metadata": {
    "ExecuteTime": {
     "end_time": "2025-04-25T20:59:01.925549Z",
     "start_time": "2025-04-25T20:58:58.329810Z"
    }
   },
   "cell_type": "code",
   "source": [
    "from scripts.preprocessing import load_hourly_csv, normalize_timestamp\n",
    "from scripts.feature_engineering import build_features\n",
    "\n",
    "# Carica e normalizza\n",
    "df = load_hourly_csv('BTC')\n",
    "df = normalize_timestamp(df, ts_col='Open time', tz_from='UTC', tz_to='UTC')\n",
    "\n",
    "# Richiama build_features senza salvataggi interni\n",
    "features = build_features(\n",
    "    df,\n",
    "    add_basic=True,\n",
    "    advanced_indicators=[\n",
    "        'bollinger_bands',\n",
    "        'ema',\n",
    "        'rsi',\n",
    "        'stoch_rsi',\n",
    "        'wave_trend',\n",
    "        'pps_killer',\n",
    "        'macd'\n",
    "    ]\n",
    ")\n",
    "\n",
    "# A questo punto 'features' è il tuo DataFrame completo, in memoria,\n",
    "# e puoi salvarlo o usarlo come preferisci nel flusso di lavoro.\n"
   ],
   "id": "67a81b3901e20328",
   "outputs": [
    {
     "ename": "ModuleNotFoundError",
     "evalue": "No module named 'scripts.preprocessing'",
     "output_type": "error",
     "traceback": [
      "\u001B[1;31m---------------------------------------------------------------------------\u001B[0m",
      "\u001B[1;31mModuleNotFoundError\u001B[0m                       Traceback (most recent call last)",
      "Cell \u001B[1;32mIn[1], line 1\u001B[0m\n\u001B[1;32m----> 1\u001B[0m \u001B[38;5;28;01mfrom\u001B[39;00m\u001B[38;5;250m \u001B[39m\u001B[38;5;21;01mscripts\u001B[39;00m\u001B[38;5;21;01m.\u001B[39;00m\u001B[38;5;21;01mpreprocessing\u001B[39;00m\u001B[38;5;250m \u001B[39m\u001B[38;5;28;01mimport\u001B[39;00m load_hourly_csv, normalize_timestamp\n\u001B[0;32m      2\u001B[0m \u001B[38;5;28;01mfrom\u001B[39;00m\u001B[38;5;250m \u001B[39m\u001B[38;5;21;01mscripts\u001B[39;00m\u001B[38;5;21;01m.\u001B[39;00m\u001B[38;5;21;01mfeature_engineering\u001B[39;00m\u001B[38;5;250m \u001B[39m\u001B[38;5;28;01mimport\u001B[39;00m build_features\n\u001B[0;32m      4\u001B[0m \u001B[38;5;66;03m# Carica e normalizza\u001B[39;00m\n",
      "\u001B[1;31mModuleNotFoundError\u001B[0m: No module named 'scripts.preprocessing'"
     ]
    }
   ],
   "execution_count": 1
  },
  {
   "metadata": {},
   "cell_type": "code",
   "source": "print(\"ciao\")",
   "id": "c52fd27314a8d05e",
   "outputs": [],
   "execution_count": null
  }
 ],
 "metadata": {
  "kernelspec": {
   "name": "python3",
   "language": "python",
   "display_name": "Python 3 (ipykernel)"
  }
 },
 "nbformat": 5,
 "nbformat_minor": 9
}
