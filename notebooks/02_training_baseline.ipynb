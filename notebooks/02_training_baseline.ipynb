{
 "cells": [
  {
   "metadata": {
    "ExecuteTime": {
     "end_time": "2025-04-26T00:31:26.179387Z",
     "start_time": "2025-04-26T00:31:26.091086Z"
    }
   },
   "cell_type": "code",
   "source": [
    "from scripts.preprocessing import load_hourly_csv, normalize_timestamp\n",
    "from scripts.feature_engineering import build_features\n",
    "from scripts.label_generation import create_labels\n",
    "\n",
    "# 1. Carica e normalizza\n",
    "df = load_hourly_csv('BTC')\n",
    "df = normalize_timestamp(df, ts_col='Open time', tz_from='UTC', tz_to='UTC')\n",
    "advanced_indicators=[\n",
    "        'bollinger_bands',\n",
    "        'ema',\n",
    "        'rsi',\n",
    "        'stoch_rsi',\n",
    "        'wave_trend',\n",
    "        'pps_killer',\n",
    "        'macd'\n",
    "    ]\n",
    "# 2. Costruisci le feature\n",
    "features = build_features(df, add_basic=True, advanced_indicators=advanced_indicators)\n",
    "\n",
    "# 3. Crea le label per un orizzonte di 24 ore\n",
    "labeled = create_labels(features, target_col='Close', horizon=24)\n",
    "\n",
    "print(labeled[['Close', 'label']].tail())\n",
    "print('Distribuzione label:')\n",
    "print(labeled['label'].value_counts(normalize=True))"
   ],
   "id": "11ccf78465c4c29a",
   "outputs": [
    {
     "ename": "ModuleNotFoundError",
     "evalue": "No module named 'scripts.preprocessing'",
     "output_type": "error",
     "traceback": [
      "\u001B[1;31m---------------------------------------------------------------------------\u001B[0m",
      "\u001B[1;31mModuleNotFoundError\u001B[0m                       Traceback (most recent call last)",
      "Cell \u001B[1;32mIn[10], line 1\u001B[0m\n\u001B[1;32m----> 1\u001B[0m \u001B[38;5;28;01mfrom\u001B[39;00m\u001B[38;5;250m \u001B[39m\u001B[38;5;21;01mscripts\u001B[39;00m\u001B[38;5;21;01m.\u001B[39;00m\u001B[38;5;21;01mpreprocessing\u001B[39;00m\u001B[38;5;250m \u001B[39m\u001B[38;5;28;01mimport\u001B[39;00m load_hourly_csv, normalize_timestamp\n\u001B[0;32m      2\u001B[0m \u001B[38;5;28;01mfrom\u001B[39;00m\u001B[38;5;250m \u001B[39m\u001B[38;5;21;01mscripts\u001B[39;00m\u001B[38;5;21;01m.\u001B[39;00m\u001B[38;5;21;01mfeature_engineering\u001B[39;00m\u001B[38;5;250m \u001B[39m\u001B[38;5;28;01mimport\u001B[39;00m build_features\n\u001B[0;32m      3\u001B[0m \u001B[38;5;28;01mfrom\u001B[39;00m\u001B[38;5;250m \u001B[39m\u001B[38;5;21;01mscripts\u001B[39;00m\u001B[38;5;21;01m.\u001B[39;00m\u001B[38;5;21;01mlabel_generation\u001B[39;00m\u001B[38;5;250m \u001B[39m\u001B[38;5;28;01mimport\u001B[39;00m create_labels\n",
      "\u001B[1;31mModuleNotFoundError\u001B[0m: No module named 'scripts.preprocessing'"
     ]
    }
   ],
   "execution_count": 10
  },
  {
   "metadata": {},
   "cell_type": "code",
   "outputs": [],
   "execution_count": null,
   "source": "",
   "id": "a7a52d6cfd570470"
  }
 ],
 "metadata": {
  "kernelspec": {
   "name": "python3",
   "language": "python",
   "display_name": "Python 3 (ipykernel)"
  }
 },
 "nbformat": 5,
 "nbformat_minor": 9
}
